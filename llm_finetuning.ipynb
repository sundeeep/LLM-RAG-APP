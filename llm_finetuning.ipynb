{
  "nbformat": 4,
  "nbformat_minor": 0,
  "metadata": {
    "colab": {
      "provenance": [],
      "mount_file_id": "18VI4sOeI7OytFRZ4BlQy_Zo7Ow2kxBhx",
      "authorship_tag": "ABX9TyO1uyX11I+E6sOVwC7CRK4e",
      "include_colab_link": true
    },
    "kernelspec": {
      "name": "python3",
      "display_name": "Python 3"
    },
    "language_info": {
      "name": "python"
    }
  },
  "cells": [
    {
      "cell_type": "markdown",
      "metadata": {
        "id": "view-in-github",
        "colab_type": "text"
      },
      "source": [
        "<a href=\"https://colab.research.google.com/github/sundeeep/LLM-RAG-APP/blob/main/llm_finetuning.ipynb\" target=\"_parent\"><img src=\"https://colab.research.google.com/assets/colab-badge.svg\" alt=\"Open In Colab\"/></a>"
      ]
    },
    {
      "cell_type": "code",
      "source": [
        "import os\n",
        "from google.colab import userdata\n",
        "OPENAI_API_KEY = userdata.get('OPENAI_APIKEY')"
      ],
      "metadata": {
        "id": "MSyjw8gV_y82"
      },
      "execution_count": 7,
      "outputs": []
    },
    {
      "cell_type": "code",
      "source": [
        "import pandas\n",
        "sheet_id = \"1Q_KrULFsBTvHGhratLqDJp7PVuyLuJSp4g9AVAyCQlY\"\n",
        "dataframe = pandas.read_csv(f\"https://docs.google.com/spreadsheets/d/{sheet_id}/export?format=csv\")\n",
        "dataframe.head()"
      ],
      "metadata": {
        "id": "3wGx4YMq9b9c"
      },
      "execution_count": null,
      "outputs": []
    },
    {
      "cell_type": "code",
      "source": [
        "system_prompt = ''"
      ],
      "metadata": {
        "id": "gZGV_2JXGR4y"
      },
      "execution_count": null,
      "outputs": []
    },
    {
      "cell_type": "code",
      "source": [],
      "metadata": {
        "id": "aEOAYyJfGX-C"
      },
      "execution_count": null,
      "outputs": []
    },
    {
      "cell_type": "code",
      "source": [
        "fine_tuned_model_id = ''"
      ],
      "metadata": {
        "id": "NcP8wpDA-RK4"
      },
      "execution_count": null,
      "outputs": []
    },
    {
      "cell_type": "code",
      "source": [],
      "metadata": {
        "id": "8SCq8sYfGQSQ"
      },
      "execution_count": null,
      "outputs": []
    }
  ]
}